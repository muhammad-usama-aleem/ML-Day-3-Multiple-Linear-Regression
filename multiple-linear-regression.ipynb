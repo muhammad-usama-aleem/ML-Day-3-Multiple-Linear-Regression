{
  "nbformat": 4,
  "nbformat_minor": 0,
  "metadata": {
    "colab": {
      "name": "Untitled0.ipynb",
      "provenance": [],
      "collapsed_sections": [],
      "toc_visible": true,
      "authorship_tag": "ABX9TyP8NaLPREnR2X1GA4ThihjS",
      "include_colab_link": true
    },
    "kernelspec": {
      "name": "python3",
      "display_name": "Python 3"
    },
    "language_info": {
      "name": "python"
    }
  },
  "cells": [
    {
      "cell_type": "markdown",
      "metadata": {
        "id": "view-in-github",
        "colab_type": "text"
      },
      "source": [
        "<a href=\"https://colab.research.google.com/github/muhammad-usama-aleem/ML-Day-3-Multiple-Linear-Regression/blob/main/multiple-linear-regression.ipynb\" target=\"_parent\"><img src=\"https://colab.research.google.com/assets/colab-badge.svg\" alt=\"Open In Colab\"/></a>"
      ]
    },
    {
      "cell_type": "code",
      "metadata": {
        "id": "QMUaP_LfBm8x"
      },
      "source": [
        "# Data Preprocessing Template\n",
        "\n",
        "# Importing the libraries\n",
        "import numpy as np\n",
        "import matplotlib.pyplot as plt\n",
        "import pandas as pd\n",
        "\n",
        "# Importing the dataset\n",
        "dataset = pd.read_csv('50_Startups.csv')\n",
        "x = dataset.iloc[:, :-1].values\n",
        "y = dataset.iloc[:, 4].values\n",
        "\n",
        "\n",
        "# Encoding categorical data\n",
        "from sklearn.preprocessing import LabelEncoder, OneHotEncoder\n",
        "from sklearn.compose import ColumnTransformer\n",
        "\n",
        "labelencoder_x = LabelEncoder()\n",
        "x[:, 3] = labelencoder_x.fit_transform(x[:, 3])\n",
        "onehotencoder = ColumnTransformer(\n",
        "    [('one_hot_encoder', OneHotEncoder(categories='auto'), [3])],\n",
        "    remainder='passthrough'\n",
        ")\n",
        "x = onehotencoder.fit_transform(x)\n",
        "\n",
        "# avoiding dummy variable trap\n",
        "x = x[:, 1:]\n",
        "\n",
        "# Splitting the dataset into the Training set and Test set\n",
        "from sklearn.model_selection import train_test_split\n",
        "\n",
        "x_train, x_test, y_train, y_test = train_test_split(x, y, test_size = 0.2, random_state = 0)\n",
        "\n",
        "\n",
        "# fitting simple linear regression to the training set\n",
        "from sklearn.linear_model import LinearRegression\n",
        "\n",
        "regressor = LinearRegression()\n",
        "regressor.fit(x_train, y_train)\n",
        "\n",
        "# predicting the test results\n",
        "y_predict = regressor.predict(x_test)\n",
        "\n",
        "\n",
        "# building optimal model using backward elimination method\n",
        "import statsmodels.api as sm\n",
        "one = np.ones((50, 1), dtype=int)\n",
        "x = np.append(one, x, axis=1)\n",
        "\n",
        "x_opt =  np.array(x[:, [0, 1, 2, 3, 4, 5]], dtype=float)\n",
        "regressor_ols = sm.OLS(endog=y, exog=x_opt).fit()\n",
        "regressor_ols.summary()\n",
        "\n",
        "x_opt =  np.array(x[:, [0, 1, 3, 4, 5]], dtype=float)\n",
        "regressor_ols = sm.OLS(endog=y, exog=x_opt).fit()\n",
        "regressor_ols.summary()\n",
        "\n",
        "x_opt =  np.array(x[:, [0, 3, 4, 5]], dtype=float)\n",
        "regressor_ols = sm.OLS(endog=y, exog=x_opt).fit()\n",
        "regressor_ols.summary()\n",
        "\n",
        "x_opt =  np.array(x[:, [0, 3, 5]], dtype=float)\n",
        "regressor_ols = sm.OLS(endog=y, exog=x_opt).fit()\n",
        "regressor_ols.summary()\n",
        "\n",
        "x_opt =  np.array(x[:, [0, 3]], dtype=float)\n",
        "regressor_ols = sm.OLS(endog=y, exog=x_opt).fit()\n",
        "regressor_ols.summary()"
      ],
      "execution_count": null,
      "outputs": []
    }
  ]
}